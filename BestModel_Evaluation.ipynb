{
 "cells": [
  {
   "cell_type": "code",
   "execution_count": null,
   "id": "da2b29fb",
   "metadata": {},
   "outputs": [],
   "source": [
    "import pandas as pd\n",
    "import matplotlib.pyplot as plt\n",
    "import numpy as np\n",
    "import seaborn as sns\n",
    "from sklearn.metrics import confusion_matrix,ConfusionMatrixDisplay,roc_auc_score,precision_recall_curve,classification_report,auc\n",
    "from sklearn.model_selection import learning_curve,cross_val_score,LearningCurveDisplay\n",
    "import joblib"
   ]
  },
  {
   "cell_type": "code",
   "execution_count": 3,
   "id": "ccdb2b89",
   "metadata": {},
   "outputs": [],
   "source": [
    "x_train = pd.read_parquet('data/x_train.parquet')\n",
    "y_train = pd.read_parquet('data/y_train.parquet')['y_train']\n",
    "x_test = pd.read_parquet('data/x_test.parquet')\n",
    "y_test = pd.read_parquet('data/y_test.parquet')['y_test']"
   ]
  },
  {
   "cell_type": "code",
   "execution_count": null,
   "id": "6294019d",
   "metadata": {},
   "outputs": [],
   "source": [
    "best_model = joblib.load('models/XGB_Classifier_best_model.pkl')"
   ]
  },
  {
   "cell_type": "code",
   "execution_count": null,
   "id": "1a820d93",
   "metadata": {},
   "outputs": [],
   "source": [
    "y_pred_proba = best_model.predict_proba(x_test)[:,1]\n",
    "threshold = 0.3\n",
    "y_pred = (y_pred_proba >= threshold).astype(int)"
   ]
  },
  {
   "cell_type": "code",
   "execution_count": null,
   "id": "a9d027b2",
   "metadata": {},
   "outputs": [],
   "source": [
    "cv_score = cross_val_score(best_model,x_train,y_train,cv=5,scoring='f1_macro',n_jobs=-1,verbose=2)\n",
    "print('F1 score across folds: ',cv_score)\n",
    "print('Mean score : ', cv_score.mean())\n",
    "print('Standard deviation : ',cv_score.std())"
   ]
  },
  {
   "cell_type": "code",
   "execution_count": null,
   "id": "28589af7",
   "metadata": {},
   "outputs": [],
   "source": [
    "cm = confusion_matrix(y_test,y_pred)\n",
    "disp = ConfusionMatrixDisplay(cm,display_labels=best_model.classes_)\n",
    "disp.plot(cmap='viridis',colorbar=False)\n",
    "plt.show()"
   ]
  },
  {
   "cell_type": "code",
   "execution_count": null,
   "id": "2574f763",
   "metadata": {},
   "outputs": [],
   "source": [
    "train_sizes, train_score, test_score = learning_curve(\n",
    "    best_model,x_train,y_train,cv = 5, scoring='f1_macro'\n",
    ")\n",
    "disp = LearningCurveDisplay(train_sizes=train_sizes,\n",
    "                            train_scores=np.mean(train_score,axis=1), label=\"Train\",\n",
    "                            test_scores=np.mean(test_score,axis=1), label='CV')\n",
    "plt.legend()\n",
    "plt.title('Learning Curve')\n",
    "plt.show()"
   ]
  }
 ],
 "metadata": {
  "kernelspec": {
   "display_name": "Python 3",
   "language": "python",
   "name": "python3"
  },
  "language_info": {
   "codemirror_mode": {
    "name": "ipython",
    "version": 3
   },
   "file_extension": ".py",
   "mimetype": "text/x-python",
   "name": "python",
   "nbconvert_exporter": "python",
   "pygments_lexer": "ipython3",
   "version": "3.11.9"
  }
 },
 "nbformat": 4,
 "nbformat_minor": 5
}
