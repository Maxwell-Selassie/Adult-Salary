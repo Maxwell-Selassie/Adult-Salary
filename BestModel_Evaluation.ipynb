{
 "cells": [
  {
   "cell_type": "code",
   "execution_count": 1,
   "id": "da2b29fb",
   "metadata": {},
   "outputs": [],
   "source": [
    "#import libraries\n",
    "import pandas as pd\n",
    "import matplotlib.pyplot as plt\n",
    "import numpy as np\n",
    "import seaborn as sns\n",
    "from sklearn.metrics import confusion_matrix,ConfusionMatrixDisplay,roc_auc_score,precision_recall_curve,classification_report,auc\n",
    "from sklearn.model_selection import learning_curve,cross_val_score,LearningCurveDisplay\n",
    "import joblib"
   ]
  },
  {
   "cell_type": "code",
   "execution_count": 2,
   "id": "ccdb2b89",
   "metadata": {},
   "outputs": [],
   "source": [
    "# load train and test datasets\n",
    "x_train = pd.read_parquet('data/x_train.parquet')\n",
    "y_train = pd.read_parquet('data/y_train.parquet')['y_train']\n",
    "x_test = pd.read_parquet('data/x_test.parquet')\n",
    "y_test = pd.read_parquet('data/y_test.parquet')['y_test']"
   ]
  },
  {
   "cell_type": "code",
   "execution_count": 4,
   "id": "6294019d",
   "metadata": {},
   "outputs": [],
   "source": [
    "# load the best model \n",
    "best_model = joblib.load('models/XGB Classifier_best_model.pkl')"
   ]
  },
  {
   "cell_type": "code",
   "execution_count": 20,
   "id": "1a820d93",
   "metadata": {},
   "outputs": [],
   "source": [
    "# preform predictions using a custom threshold of 0.3 \n",
    "y_pred_proba = best_model.predict_proba(x_test)[:,1]\n",
    "threshold = 0.7\n",
    "y_pred = (y_pred_proba >= threshold).astype(int)"
   ]
  },
  {
   "cell_type": "code",
   "execution_count": 21,
   "id": "a9d027b2",
   "metadata": {},
   "outputs": [
    {
     "name": "stderr",
     "output_type": "stream",
     "text": [
      "[Parallel(n_jobs=-1)]: Using backend LokyBackend with 8 concurrent workers.\n",
      "[Parallel(n_jobs=-1)]: Done   2 out of   5 | elapsed:    2.2s remaining:    3.3s\n",
      "[Parallel(n_jobs=-1)]: Done   5 out of   5 | elapsed:    2.5s finished\n"
     ]
    },
    {
     "name": "stdout",
     "output_type": "stream",
     "text": [
      "F1 score across folds:  [0.80740782 0.82350655 0.81691958 0.8110862  0.81642496]\n",
      "Mean score :  0.8150690206756455\n",
      "Standard deviation :  0.0054956693327632665\n"
     ]
    }
   ],
   "source": [
    "# cross validation across the 5 folds of training, return the mean and std cv score\n",
    "cv_score = cross_val_score(best_model,x_train,y_train,cv=5,scoring='f1_macro',n_jobs=-1,verbose=2)\n",
    "print('F1 score across folds: ',cv_score)\n",
    "print('Mean score : ', cv_score.mean())\n",
    "print('Standard deviation : ',cv_score.std())\n",
    "\n",
    "# Insights: \n",
    "# Small standard deviation and similar ranges of values across 5 folds suggests that the model is stable "
   ]
  },
  {
   "cell_type": "code",
   "execution_count": 22,
   "id": "28589af7",
   "metadata": {},
   "outputs": [
    {
     "data": {
      "image/png": "[encoded data removed]",
      "text/plain": [
       "<Figure size 640x480 with 1 Axes>"
      ]
     },
     "metadata": {},
     "output_type": "display_data"
    }
   ],
   "source": [
    "# 1. Model evaluation \n",
    "# Confusion matrix - analyse classifications and misclassifications of labels through visuals\n",
    "cm = confusion_matrix(y_test,y_pred)\n",
    "disp = ConfusionMatrixDisplay(cm,display_labels=best_model.classes_)\n",
    "disp.plot(cmap='viridis',colorbar=False)\n",
    "plt.show()"
   ]
  },
  {
   "cell_type": "code",
   "execution_count": null,
   "id": "2574f763",
   "metadata": {},
   "outputs": [],
   "source": [
    "# 2. Learning Curve - A visual plot of how the model learns - bias and variance tradeoff\n",
    "train_sizes, train_score, test_score = learning_curve(\n",
    "    best_model,x_train,y_train,cv = 5, scoring='f1_macro'\n",
    ")\n",
    "disp = LearningCurveDisplay(train_sizes=train_sizes,\n",
    "                            train_scores=np.mean(train_score,axis=1),\n",
    "                            test_scores=np.mean(test_score,axis=1))\n",
    "plt.legend()\n",
    "plt.title('Learning Curve')\n",
    "plt.show()"
   ]
  },
  {
   "cell_type": "code",
   "execution_count": 19,
   "id": "71889e37",
   "metadata": {},
   "outputs": [
    {
     "name": "stdout",
     "output_type": "stream",
     "text": [
      "Log Loss :  4.934855598264041\n"
     ]
    }
   ],
   "source": [
    "# 3. Log loss - loss function for some classification models\n",
    "from sklearn.metrics import log_loss\n",
    "print('Log Loss : ',log_loss(y_test,y_pred))"
   ]
  }
 ],
 "metadata": {
  "kernelspec": {
   "display_name": "Python 3",
   "language": "python",
   "name": "python3"
  },
  "language_info": {
   "codemirror_mode": {
    "name": "ipython",
    "version": 3
   },
   "file_extension": ".py",
   "mimetype": "text/x-python",
   "name": "python",
   "nbconvert_exporter": "python",
   "pygments_lexer": "ipython3",
   "version": "3.11.9"
  }
 },
 "nbformat": 4,
 "nbformat_minor": 5
}
